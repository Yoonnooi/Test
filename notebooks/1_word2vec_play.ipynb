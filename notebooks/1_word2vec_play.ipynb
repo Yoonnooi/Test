{
  "cells": [
    {
      "cell_type": "code",
      "execution_count": 4,
      "metadata": {
        "id": "HQnpWkNw7pCp"
      },
      "outputs": [],
      "source": [
        "import gensim\n",
        "import numpy as np\n",
        "import pprint as pp\n"
      ]
    },
    {
      "cell_type": "code",
      "execution_count": 5,
      "metadata": {
        "colab": {
          "base_uri": "https://localhost:8080/"
        },
        "id": "sxUuPF077pCq",
        "outputId": "405a4c98-a29c-4997-86d1-a2fef2ee5cfa"
      },
      "outputs": [
        {
          "output_type": "execute_result",
          "data": {
            "text/plain": [
              "['fasttext-wiki-news-subwords-300',\n",
              " 'conceptnet-numberbatch-17-06-300',\n",
              " 'word2vec-ruscorpora-300',\n",
              " 'word2vec-google-news-300',\n",
              " 'glove-wiki-gigaword-50',\n",
              " 'glove-wiki-gigaword-100',\n",
              " 'glove-wiki-gigaword-200',\n",
              " 'glove-wiki-gigaword-300',\n",
              " 'glove-twitter-25',\n",
              " 'glove-twitter-50',\n",
              " 'glove-twitter-100',\n",
              " 'glove-twitter-200',\n",
              " '__testing_word2vec-matrix-synopsis']"
            ]
          },
          "metadata": {},
          "execution_count": 5
        }
      ],
      "source": [
        "import gensim.downloader\n",
        "list(gensim.downloader.info()['models'].keys())\n"
      ]
    },
    {
      "cell_type": "code",
      "execution_count": 6,
      "metadata": {
        "colab": {
          "base_uri": "https://localhost:8080/"
        },
        "id": "3JPn3vkO7pCr",
        "outputId": "f3d05ac3-c24f-402e-9c65-de379b3564c9"
      },
      "outputs": [
        {
          "output_type": "stream",
          "name": "stdout",
          "text": [
            "[==================================================] 100.0% 104.8/104.8MB downloaded\n"
          ]
        }
      ],
      "source": [
        "your_model_code = 'glove-twitter-25' # select among the model code aboves\n",
        "model = gensim.downloader.load(your_model_code) # download and load the model. It can take some time\n"
      ]
    },
    {
      "cell_type": "code",
      "execution_count": 7,
      "metadata": {
        "colab": {
          "base_uri": "https://localhost:8080/"
        },
        "id": "vrL9e9pK7pCs",
        "outputId": "312eb2c3-9f7d-4474-a151-2ec073c8a0a0"
      },
      "outputs": [
        {
          "output_type": "execute_result",
          "data": {
            "text/plain": [
              "array([-1.2683  ,  0.1637  ,  0.94297 , -0.24019 , -0.059781, -0.6111  ,\n",
              "        2.2597  , -0.57582 , -1.044   , -0.3829  ,  0.041206, -0.3066  ,\n",
              "       -4.0827  ,  0.49312 , -0.47918 , -0.45086 ,  0.83705 , -0.87904 ,\n",
              "       -0.65342 ,  0.67294 , -1.1446  , -0.50034 , -0.41267 ,  0.5155  ,\n",
              "        0.27516 ], dtype=float32)"
            ]
          },
          "metadata": {},
          "execution_count": 7
        }
      ],
      "source": [
        "your_word = 'christmas'\n",
        "model[your_word]"
      ]
    },
    {
      "cell_type": "code",
      "execution_count": 8,
      "metadata": {
        "colab": {
          "base_uri": "https://localhost:8080/"
        },
        "id": "lRUw_tQf7pCt",
        "outputId": "6bac73e4-a0c3-4df6-de0a-fdf4ae18a517"
      },
      "outputs": [
        {
          "output_type": "execute_result",
          "data": {
            "text/plain": [
              "[('xmas', 0.9389845132827759),\n",
              " ('valentines', 0.9371044635772705),\n",
              " ('easter', 0.9359163641929626),\n",
              " ('day', 0.927849531173706),\n",
              " ('summer', 0.9127758145332336),\n",
              " ('lovely', 0.9112605452537537),\n",
              " ('amazing', 0.9081432223320007),\n",
              " ('night', 0.9026802182197571),\n",
              " ('holiday', 0.9005634188652039),\n",
              " ('evening', 0.8993718028068542)]"
            ]
          },
          "metadata": {},
          "execution_count": 8
        }
      ],
      "source": [
        "model.most_similar(your_word)"
      ]
    }
  ],
  "metadata": {
    "kernelspec": {
      "display_name": "Python 3",
      "language": "python",
      "name": "python3"
    },
    "language_info": {
      "name": "python",
      "version": "3.8.10"
    },
    "colab": {
      "provenance": []
    }
  },
  "nbformat": 4,
  "nbformat_minor": 0
}