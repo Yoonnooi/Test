{
  "cells": [
    {
      "cell_type": "markdown",
      "metadata": {
        "id": "view-in-github",
        "colab_type": "text"
      },
      "source": [
        "<a href=\"https://colab.research.google.com/github/Yoonnooi/Test/blob/main/notebooks/1_word2vec.ipynb\" target=\"_parent\"><img src=\"https://colab.research.google.com/assets/colab-badge.svg\" alt=\"Open In Colab\"/></a>"
      ]
    },
    {
      "cell_type": "markdown",
      "metadata": {
        "id": "EtdhjsxVkHLQ"
      },
      "source": [
        "# Word2Vec Implementation from Scratch\n",
        "\n",
        "This notebook demonstrates how to implement the Word2Vec algorithm from scratch using PyTorch. We'll use the first Harry Potter book as our corpus to train word embeddings.\n"
      ]
    },
    {
      "cell_type": "markdown",
      "metadata": {
        "id": "uhwrN0sHkHLT"
      },
      "source": [
        "## 1. Setting Up the Environment\n",
        "\n",
        "First, we need to import the necessary libraries:\n",
        "- `torch` and `torch.nn` for tensor operations and neural network functionality\n",
        "- `string` for string manipulations (removing punctuation)\n"
      ]
    },
    {
      "cell_type": "code",
      "execution_count": 1,
      "metadata": {
        "id": "L9BA5Lg2QRMr"
      },
      "outputs": [],
      "source": [
        "import torch\n",
        "import torch.nn as nn\n",
        "import string\n"
      ]
    },
    {
      "cell_type": "markdown",
      "metadata": {
        "id": "Pm3-SyUukHLU"
      },
      "source": [
        "## 2. Getting the Text Data\n",
        "\n",
        "We'll download the first Harry Potter book to use as our corpus."
      ]
    },
    {
      "cell_type": "code",
      "execution_count": 2,
      "metadata": {
        "colab": {
          "base_uri": "https://localhost:8080/"
        },
        "id": "tEaaz_s0QRMs",
        "outputId": "5f175ded-df00-421f-cc87-85b576efa082"
      },
      "outputs": [
        {
          "output_type": "stream",
          "name": "stdout",
          "text": [
            "--2025-03-11 04:59:19--  https://raw.githubusercontent.com/amephraim/nlp/master/texts/J.%20K.%20Rowling%20-%20Harry%20Potter%201%20-%20Sorcerer's%20Stone.txt\n",
            "Resolving raw.githubusercontent.com (raw.githubusercontent.com)... 185.199.111.133, 185.199.109.133, 185.199.110.133, ...\n",
            "Connecting to raw.githubusercontent.com (raw.githubusercontent.com)|185.199.111.133|:443... connected.\n",
            "HTTP request sent, awaiting response... 200 OK\n",
            "Length: 439742 (429K) [text/plain]\n",
            "Saving to: ‘J. K. Rowling - Harry Potter 1 - Sorcerer's Stone.txt’\n",
            "\n",
            "\r          J. K. Row   0%[                    ]       0  --.-KB/s               \rJ. K. Rowling - Har 100%[===================>] 429.44K  --.-KB/s    in 0.04s   \n",
            "\n",
            "2025-03-11 04:59:19 (9.33 MB/s) - ‘J. K. Rowling - Harry Potter 1 - Sorcerer's Stone.txt’ saved [439742/439742]\n",
            "\n"
          ]
        }
      ],
      "source": [
        "!wget \"https://raw.githubusercontent.com/amephraim/nlp/master/texts/J.%20K.%20Rowling%20-%20Harry%20Potter%201%20-%20Sorcerer's%20Stone.txt\"\n"
      ]
    },
    {
      "cell_type": "markdown",
      "metadata": {
        "id": "xTVaP6WIkHLV"
      },
      "source": [
        "## 3. Text Preprocessing\n",
        "\n",
        "Before we can use the text data, we need to preprocess it:\n",
        "- Remove punctuation\n",
        "- Convert text to lowercase\n",
        "- Split text into tokens (words)\n",
        "\n",
        "This function will help us clean and tokenize the text."
      ]
    },
    {
      "cell_type": "code",
      "execution_count": 3,
      "metadata": {
        "id": "CUsXJYlIQRMs"
      },
      "outputs": [],
      "source": [
        "def remove_punctuation(x):\n",
        "  return x.translate(''.maketrans('', '', string.punctuation))\n",
        "\n",
        "def make_tokenized_corpus(corpus):\n",
        "  out= [ [y.lower() for y in remove_punctuation(sentence).split(' ') if y] for sentence in corpus]\n",
        "  return [x for x in out if x!=[]]\n"
      ]
    },
    {
      "cell_type": "markdown",
      "metadata": {
        "id": "sYaq0WCnkHLW"
      },
      "source": [
        "## 4. Loading and Formatting the Text\n",
        "\n",
        "Now we'll load the text file, replace some special characters, and split the text into sentences.\n"
      ]
    },
    {
      "cell_type": "code",
      "execution_count": 8,
      "metadata": {
        "id": "Ry1o-F-bQRMs"
      },
      "outputs": [],
      "source": [
        "with open(\"J. K. Rowling - Harry Potter 1 - Sorcerer's Stone.txt\", 'r') as f:\n",
        "  strings = f.readlines()\n",
        "sample_text = \"\".join(strings).replace('\\n', ' ').replace('Mr.', 'mr').replace('Mrs.', 'mrs').split('. ')\n",
        "list_of_sentences = sample_text\n",
        "\n",
        "#sample_text #list of strings(sentence)"
      ]
    },
    {
      "cell_type": "markdown",
      "metadata": {
        "id": "_DPgfJi5kHLW"
      },
      "source": [
        "Let's tokenize the text using our preprocessing function `make_tokenized_corpus`:"
      ]
    },
    {
      "cell_type": "code",
      "execution_count": 11,
      "metadata": {
        "colab": {
          "base_uri": "https://localhost:8080/"
        },
        "id": "Ne-pUaxSQRMs",
        "outputId": "b6151171-d20e-46f7-8d30-c7e1423c4587"
      },
      "outputs": [
        {
          "output_type": "stream",
          "name": "stdout",
          "text": [
            "Harry Potter and the Sorcerer's Stone   CHAPTER ONE  THE BOY WHO LIVED  mr and mrs Dursley, of number four, Privet Drive, were proud to say that they were perfectly normal, thank you very much\n",
            "They were the last people you'd expect to be involved in anything strange or mysterious, because they just didn't hold with such nonsense\n",
            " mr Dursley was the director of a firm called Grunnings, which made drills\n",
            "He was a big, beefy man with hardly any neck, although he did have a very large mustache\n",
            "mrs Dursley was thin and blonde and had nearly twice the usual amount of neck, which came in very useful as she spent so much of her time craning over garden fences, spying on the neighbors\n",
            "The Dursleys had a small son called Dudley and in their opinion there was no finer boy anywhere\n",
            " The Dursleys had everything they wanted, but they also had a secret, and their greatest fear was that somebody would discover it\n",
            "They didn't think they could bear it if anyone found out about the Potters\n",
            "mrs Potter was mrs Dursley's sister, but they hadn't met for several years; in fact, mrs Dursley pretended she didn't have a sister, because her sister and her good-for-nothing husband were as unDursleyish as it was possible to be\n",
            "The Dursleys shuddered to think what the neighbors would say if the Potters arrived in the street\n"
          ]
        }
      ],
      "source": [
        "# Corpus is a list of list of strings (words)\n",
        "#i = 0\n",
        "#for sentence in list_of_sentences:\n",
        "#  i += 1\n",
        "#  if i > 10:\n",
        "#    break\n",
        "#  print(sentence)\n",
        "\n",
        "for sentence in list_of_sentences[:10]:\n",
        "  print(sentence)"
      ]
    },
    {
      "cell_type": "code",
      "source": [
        "corpus = make_tokenized_corpus(list_of_sentences[:10]) #list of list of words\n",
        "type(corpus), type(corpus[0]), type(corpus[0][0])"
      ],
      "metadata": {
        "colab": {
          "base_uri": "https://localhost:8080/"
        },
        "id": "ahkqjwEQn3Ad",
        "outputId": "817a335e-4065-4b52-ff3b-2860becd2406"
      },
      "execution_count": 18,
      "outputs": [
        {
          "output_type": "execute_result",
          "data": {
            "text/plain": [
              "(list, list, str)"
            ]
          },
          "metadata": {},
          "execution_count": 18
        }
      ]
    },
    {
      "cell_type": "markdown",
      "metadata": {
        "id": "2pPzKbDUkHLX"
      },
      "source": [
        "## 5. Creating Context Word Pairs\n",
        "\n",
        "A key concept in Word2Vec is learning from context. We need to create pairs of words that appear near each other in the text. We'll use a sliding window approach to create these pairs.\n",
        "\n",
        "For example, with the window size of 2, for the word \"to\" in the sentence \"they were the last people youd expect to be involved...\", we would create pairs with:\n",
        "- (\"to\", \"expect\")\n",
        "- (\"to\", \"be\")\n",
        "- (\"to\", \"involved\")\n",
        "- (\"to\", \"in\")\n",
        "\n",
        "These pairs will be our training data."
      ]
    },
    {
      "cell_type": "code",
      "execution_count": 35,
      "metadata": {
        "colab": {
          "base_uri": "https://localhost:8080/"
        },
        "id": "-UxJwTAacWfP",
        "outputId": "5c70378e-8827-417a-d9ef-b685cf49b0df"
      },
      "outputs": [
        {
          "output_type": "stream",
          "name": "stdout",
          "text": [
            "[('harry', 'potter'), ('harry', 'and'), ('potter', 'harry'), ('potter', 'and'), ('potter', 'the'), ('and', 'harry'), ('and', 'potter'), ('and', 'the'), ('and', 'sorcerers'), ('the', 'potter'), ('the', 'and'), ('the', 'sorcerers'), ('the', 'stone'), ('sorcerers', 'and'), ('sorcerers', 'the'), ('sorcerers', 'stone'), ('sorcerers', 'chapter'), ('stone', 'the'), ('stone', 'sorcerers'), ('stone', 'chapter'), ('stone', 'one'), ('chapter', 'sorcerers'), ('chapter', 'stone'), ('chapter', 'one'), ('chapter', 'the'), ('one', 'stone'), ('one', 'chapter'), ('one', 'the'), ('one', 'boy'), ('the', 'chapter'), ('the', 'one'), ('the', 'boy'), ('the', 'who'), ('boy', 'one'), ('boy', 'the'), ('boy', 'who'), ('boy', 'lived'), ('who', 'the'), ('who', 'boy'), ('who', 'lived'), ('who', 'mr'), ('lived', 'boy'), ('lived', 'who'), ('lived', 'mr'), ('lived', 'and'), ('mr', 'who'), ('mr', 'lived'), ('mr', 'and'), ('mr', 'mrs'), ('and', 'lived'), ('and', 'mr'), ('and', 'mrs'), ('and', 'dursley'), ('mrs', 'mr'), ('mrs', 'and'), ('mrs', 'dursley'), ('mrs', 'of'), ('dursley', 'and'), ('dursley', 'mrs'), ('dursley', 'of'), ('dursley', 'number'), ('of', 'mrs'), ('of', 'dursley'), ('of', 'number'), ('of', 'four'), ('number', 'dursley'), ('number', 'of'), ('number', 'four'), ('number', 'privet'), ('four', 'of'), ('four', 'number'), ('four', 'privet'), ('four', 'drive'), ('privet', 'number'), ('privet', 'four'), ('privet', 'drive'), ('privet', 'were'), ('drive', 'four'), ('drive', 'privet'), ('drive', 'were'), ('drive', 'proud'), ('were', 'privet'), ('were', 'drive'), ('were', 'proud'), ('were', 'to'), ('proud', 'drive'), ('proud', 'were'), ('proud', 'to'), ('proud', 'say'), ('to', 'were'), ('to', 'proud'), ('to', 'say'), ('to', 'that'), ('say', 'proud'), ('say', 'to'), ('say', 'that'), ('say', 'they'), ('that', 'to'), ('that', 'say'), ('that', 'they'), ('that', 'were'), ('they', 'say'), ('they', 'that'), ('they', 'were'), ('they', 'perfectly'), ('were', 'that'), ('were', 'they'), ('were', 'perfectly'), ('were', 'normal'), ('perfectly', 'they'), ('perfectly', 'were'), ('perfectly', 'normal'), ('perfectly', 'thank'), ('normal', 'were'), ('normal', 'perfectly'), ('normal', 'thank'), ('normal', 'you'), ('thank', 'perfectly'), ('thank', 'normal'), ('thank', 'you'), ('thank', 'very'), ('you', 'normal'), ('you', 'thank'), ('you', 'very'), ('you', 'much'), ('very', 'thank'), ('very', 'you'), ('very', 'much'), ('much', 'you'), ('much', 'very'), ('they', 'were'), ('they', 'the'), ('were', 'they'), ('were', 'the'), ('were', 'last'), ('the', 'they'), ('the', 'were'), ('the', 'last'), ('the', 'people'), ('last', 'were'), ('last', 'the'), ('last', 'people'), ('last', 'youd'), ('people', 'the'), ('people', 'last'), ('people', 'youd'), ('people', 'expect'), ('youd', 'last'), ('youd', 'people'), ('youd', 'expect'), ('youd', 'to'), ('expect', 'people'), ('expect', 'youd'), ('expect', 'to'), ('expect', 'be'), ('to', 'youd'), ('to', 'expect'), ('to', 'be'), ('to', 'involved'), ('be', 'expect'), ('be', 'to'), ('be', 'involved'), ('be', 'in'), ('involved', 'to'), ('involved', 'be'), ('involved', 'in'), ('involved', 'anything'), ('in', 'be'), ('in', 'involved'), ('in', 'anything'), ('in', 'strange'), ('anything', 'involved'), ('anything', 'in'), ('anything', 'strange'), ('anything', 'or'), ('strange', 'in'), ('strange', 'anything'), ('strange', 'or'), ('strange', 'mysterious'), ('or', 'anything'), ('or', 'strange'), ('or', 'mysterious'), ('or', 'because'), ('mysterious', 'strange'), ('mysterious', 'or'), ('mysterious', 'because'), ('mysterious', 'they'), ('because', 'or'), ('because', 'mysterious'), ('because', 'they'), ('because', 'just'), ('they', 'mysterious'), ('they', 'because'), ('they', 'just'), ('they', 'didnt'), ('just', 'because'), ('just', 'they'), ('just', 'didnt'), ('just', 'hold'), ('didnt', 'they'), ('didnt', 'just'), ('didnt', 'hold'), ('didnt', 'with'), ('hold', 'just'), ('hold', 'didnt'), ('hold', 'with'), ('hold', 'such'), ('with', 'didnt'), ('with', 'hold'), ('with', 'such'), ('with', 'nonsense'), ('such', 'hold'), ('such', 'with'), ('such', 'nonsense'), ('nonsense', 'with'), ('nonsense', 'such'), ('mr', 'dursley'), ('mr', 'was'), ('dursley', 'mr'), ('dursley', 'was'), ('dursley', 'the'), ('was', 'mr'), ('was', 'dursley'), ('was', 'the'), ('was', 'director'), ('the', 'dursley'), ('the', 'was'), ('the', 'director'), ('the', 'of'), ('director', 'was'), ('director', 'the'), ('director', 'of'), ('director', 'a'), ('of', 'the'), ('of', 'director'), ('of', 'a'), ('of', 'firm'), ('a', 'director'), ('a', 'of'), ('a', 'firm'), ('a', 'called'), ('firm', 'of'), ('firm', 'a'), ('firm', 'called'), ('firm', 'grunnings'), ('called', 'a'), ('called', 'firm'), ('called', 'grunnings'), ('called', 'which'), ('grunnings', 'firm'), ('grunnings', 'called'), ('grunnings', 'which'), ('grunnings', 'made'), ('which', 'called'), ('which', 'grunnings'), ('which', 'made'), ('which', 'drills'), ('made', 'grunnings'), ('made', 'which'), ('made', 'drills'), ('drills', 'which'), ('drills', 'made'), ('he', 'was'), ('he', 'a'), ('was', 'he'), ('was', 'a'), ('was', 'big'), ('a', 'he'), ('a', 'was'), ('a', 'big'), ('a', 'beefy'), ('big', 'was'), ('big', 'a'), ('big', 'beefy'), ('big', 'man'), ('beefy', 'a'), ('beefy', 'big'), ('beefy', 'man'), ('beefy', 'with'), ('man', 'big'), ('man', 'beefy'), ('man', 'with'), ('man', 'hardly'), ('with', 'beefy'), ('with', 'man'), ('with', 'hardly'), ('with', 'any'), ('hardly', 'man'), ('hardly', 'with'), ('hardly', 'any'), ('hardly', 'neck'), ('any', 'with'), ('any', 'hardly'), ('any', 'neck'), ('any', 'although'), ('neck', 'hardly'), ('neck', 'any'), ('neck', 'although'), ('neck', 'he'), ('although', 'any'), ('although', 'neck'), ('although', 'he'), ('although', 'did'), ('he', 'neck'), ('he', 'although'), ('he', 'did'), ('he', 'have'), ('did', 'although'), ('did', 'he'), ('did', 'have'), ('did', 'a'), ('have', 'he'), ('have', 'did'), ('have', 'a'), ('have', 'very'), ('a', 'did'), ('a', 'have'), ('a', 'very'), ('a', 'large'), ('very', 'have'), ('very', 'a'), ('very', 'large'), ('very', 'mustache'), ('large', 'a'), ('large', 'very'), ('large', 'mustache'), ('mustache', 'very'), ('mustache', 'large'), ('mrs', 'dursley'), ('mrs', 'was'), ('dursley', 'mrs'), ('dursley', 'was'), ('dursley', 'thin'), ('was', 'mrs'), ('was', 'dursley'), ('was', 'thin'), ('was', 'and'), ('thin', 'dursley'), ('thin', 'was'), ('thin', 'and'), ('thin', 'blonde'), ('and', 'was'), ('and', 'thin'), ('and', 'blonde'), ('and', 'and'), ('blonde', 'thin'), ('blonde', 'and'), ('blonde', 'and'), ('blonde', 'had'), ('and', 'and'), ('and', 'blonde'), ('and', 'had'), ('and', 'nearly'), ('had', 'blonde'), ('had', 'and'), ('had', 'nearly'), ('had', 'twice'), ('nearly', 'and'), ('nearly', 'had'), ('nearly', 'twice'), ('nearly', 'the'), ('twice', 'had'), ('twice', 'nearly'), ('twice', 'the'), ('twice', 'usual'), ('the', 'nearly'), ('the', 'twice'), ('the', 'usual'), ('the', 'amount'), ('usual', 'twice'), ('usual', 'the'), ('usual', 'amount'), ('usual', 'of'), ('amount', 'the'), ('amount', 'usual'), ('amount', 'of'), ('amount', 'neck'), ('of', 'usual'), ('of', 'amount'), ('of', 'neck'), ('of', 'which'), ('neck', 'amount'), ('neck', 'of'), ('neck', 'which'), ('neck', 'came'), ('which', 'of'), ('which', 'neck'), ('which', 'came'), ('which', 'in'), ('came', 'neck'), ('came', 'which'), ('came', 'in'), ('came', 'very'), ('in', 'which'), ('in', 'came'), ('in', 'very'), ('in', 'useful'), ('very', 'came'), ('very', 'in'), ('very', 'useful'), ('very', 'as'), ('useful', 'in'), ('useful', 'very'), ('useful', 'as'), ('useful', 'she'), ('as', 'very'), ('as', 'useful'), ('as', 'she'), ('as', 'spent'), ('she', 'useful'), ('she', 'as'), ('she', 'spent'), ('she', 'so'), ('spent', 'as'), ('spent', 'she'), ('spent', 'so'), ('spent', 'much'), ('so', 'she'), ('so', 'spent'), ('so', 'much'), ('so', 'of'), ('much', 'spent'), ('much', 'so'), ('much', 'of'), ('much', 'her'), ('of', 'so'), ('of', 'much'), ('of', 'her'), ('of', 'time'), ('her', 'much'), ('her', 'of'), ('her', 'time'), ('her', 'craning'), ('time', 'of'), ('time', 'her'), ('time', 'craning'), ('time', 'over'), ('craning', 'her'), ('craning', 'time'), ('craning', 'over'), ('craning', 'garden'), ('over', 'time'), ('over', 'craning'), ('over', 'garden'), ('over', 'fences'), ('garden', 'craning'), ('garden', 'over'), ('garden', 'fences'), ('garden', 'spying'), ('fences', 'over'), ('fences', 'garden'), ('fences', 'spying'), ('fences', 'on'), ('spying', 'garden'), ('spying', 'fences'), ('spying', 'on'), ('spying', 'the'), ('on', 'fences'), ('on', 'spying'), ('on', 'the'), ('on', 'neighbors'), ('the', 'spying'), ('the', 'on'), ('the', 'neighbors'), ('neighbors', 'on'), ('neighbors', 'the'), ('the', 'dursleys'), ('the', 'had'), ('dursleys', 'the'), ('dursleys', 'had'), ('dursleys', 'a'), ('had', 'the'), ('had', 'dursleys'), ('had', 'a'), ('had', 'small'), ('a', 'dursleys'), ('a', 'had'), ('a', 'small'), ('a', 'son'), ('small', 'had'), ('small', 'a'), ('small', 'son'), ('small', 'called'), ('son', 'a'), ('son', 'small'), ('son', 'called'), ('son', 'dudley'), ('called', 'small'), ('called', 'son'), ('called', 'dudley'), ('called', 'and'), ('dudley', 'son'), ('dudley', 'called'), ('dudley', 'and'), ('dudley', 'in'), ('and', 'called'), ('and', 'dudley'), ('and', 'in'), ('and', 'their'), ('in', 'dudley'), ('in', 'and'), ('in', 'their'), ('in', 'opinion'), ('their', 'and'), ('their', 'in'), ('their', 'opinion'), ('their', 'there'), ('opinion', 'in'), ('opinion', 'their'), ('opinion', 'there'), ('opinion', 'was'), ('there', 'their'), ('there', 'opinion'), ('there', 'was'), ('there', 'no'), ('was', 'opinion'), ('was', 'there'), ('was', 'no'), ('was', 'finer'), ('no', 'there'), ('no', 'was'), ('no', 'finer'), ('no', 'boy'), ('finer', 'was'), ('finer', 'no'), ('finer', 'boy'), ('finer', 'anywhere'), ('boy', 'no'), ('boy', 'finer'), ('boy', 'anywhere'), ('anywhere', 'finer'), ('anywhere', 'boy'), ('the', 'dursleys'), ('the', 'had'), ('dursleys', 'the'), ('dursleys', 'had'), ('dursleys', 'everything'), ('had', 'the'), ('had', 'dursleys'), ('had', 'everything'), ('had', 'they'), ('everything', 'dursleys'), ('everything', 'had'), ('everything', 'they'), ('everything', 'wanted'), ('they', 'had'), ('they', 'everything'), ('they', 'wanted'), ('they', 'but'), ('wanted', 'everything'), ('wanted', 'they'), ('wanted', 'but'), ('wanted', 'they'), ('but', 'they'), ('but', 'wanted'), ('but', 'they'), ('but', 'also'), ('they', 'wanted'), ('they', 'but'), ('they', 'also'), ('they', 'had'), ('also', 'but'), ('also', 'they'), ('also', 'had'), ('also', 'a'), ('had', 'they'), ('had', 'also'), ('had', 'a'), ('had', 'secret'), ('a', 'also'), ('a', 'had'), ('a', 'secret'), ('a', 'and'), ('secret', 'had'), ('secret', 'a'), ('secret', 'and'), ('secret', 'their'), ('and', 'a'), ('and', 'secret'), ('and', 'their'), ('and', 'greatest'), ('their', 'secret'), ('their', 'and'), ('their', 'greatest'), ('their', 'fear'), ('greatest', 'and'), ('greatest', 'their'), ('greatest', 'fear'), ('greatest', 'was'), ('fear', 'their'), ('fear', 'greatest'), ('fear', 'was'), ('fear', 'that'), ('was', 'greatest'), ('was', 'fear'), ('was', 'that'), ('was', 'somebody'), ('that', 'fear'), ('that', 'was'), ('that', 'somebody'), ('that', 'would'), ('somebody', 'was'), ('somebody', 'that'), ('somebody', 'would'), ('somebody', 'discover'), ('would', 'that'), ('would', 'somebody'), ('would', 'discover'), ('would', 'it'), ('discover', 'somebody'), ('discover', 'would'), ('discover', 'it'), ('it', 'would'), ('it', 'discover'), ('they', 'didnt'), ('they', 'think'), ('didnt', 'they'), ('didnt', 'think'), ('didnt', 'they'), ('think', 'they'), ('think', 'didnt'), ('think', 'they'), ('think', 'could'), ('they', 'didnt'), ('they', 'think'), ('they', 'could'), ('they', 'bear'), ('could', 'think'), ('could', 'they'), ('could', 'bear'), ('could', 'it'), ('bear', 'they'), ('bear', 'could'), ('bear', 'it'), ('bear', 'if'), ('it', 'could'), ('it', 'bear'), ('it', 'if'), ('it', 'anyone'), ('if', 'bear'), ('if', 'it'), ('if', 'anyone'), ('if', 'found'), ('anyone', 'it'), ('anyone', 'if'), ('anyone', 'found'), ('anyone', 'out'), ('found', 'if'), ('found', 'anyone'), ('found', 'out'), ('found', 'about'), ('out', 'anyone'), ('out', 'found'), ('out', 'about'), ('out', 'the'), ('about', 'found'), ('about', 'out'), ('about', 'the'), ('about', 'potters'), ('the', 'out'), ('the', 'about'), ('the', 'potters'), ('potters', 'about'), ('potters', 'the'), ('mrs', 'potter'), ('mrs', 'was'), ('potter', 'mrs'), ('potter', 'was'), ('potter', 'mrs'), ('was', 'mrs'), ('was', 'potter'), ('was', 'mrs'), ('was', 'dursleys'), ('mrs', 'potter'), ('mrs', 'was'), ('mrs', 'dursleys'), ('mrs', 'sister'), ('dursleys', 'was'), ('dursleys', 'mrs'), ('dursleys', 'sister'), ('dursleys', 'but'), ('sister', 'mrs'), ('sister', 'dursleys'), ('sister', 'but'), ('sister', 'they'), ('but', 'dursleys'), ('but', 'sister'), ('but', 'they'), ('but', 'hadnt'), ('they', 'sister'), ('they', 'but'), ('they', 'hadnt'), ('they', 'met'), ('hadnt', 'but'), ('hadnt', 'they'), ('hadnt', 'met'), ('hadnt', 'for'), ('met', 'they'), ('met', 'hadnt'), ('met', 'for'), ('met', 'several'), ('for', 'hadnt'), ('for', 'met'), ('for', 'several'), ('for', 'years'), ('several', 'met'), ('several', 'for'), ('several', 'years'), ('several', 'in'), ('years', 'for'), ('years', 'several'), ('years', 'in'), ('years', 'fact'), ('in', 'several'), ('in', 'years'), ('in', 'fact'), ('in', 'mrs'), ('fact', 'years'), ('fact', 'in'), ('fact', 'mrs'), ('fact', 'dursley'), ('mrs', 'in'), ('mrs', 'fact'), ('mrs', 'dursley'), ('mrs', 'pretended'), ('dursley', 'fact'), ('dursley', 'mrs'), ('dursley', 'pretended'), ('dursley', 'she'), ('pretended', 'mrs'), ('pretended', 'dursley'), ('pretended', 'she'), ('pretended', 'didnt'), ('she', 'dursley'), ('she', 'pretended'), ('she', 'didnt'), ('she', 'have'), ('didnt', 'pretended'), ('didnt', 'she'), ('didnt', 'have'), ('didnt', 'a'), ('have', 'she'), ('have', 'didnt'), ('have', 'a'), ('have', 'sister'), ('a', 'didnt'), ('a', 'have'), ('a', 'sister'), ('a', 'because'), ('sister', 'have'), ('sister', 'a'), ('sister', 'because'), ('sister', 'her'), ('because', 'a'), ('because', 'sister'), ('because', 'her'), ('because', 'sister'), ('her', 'sister'), ('her', 'because'), ('her', 'sister'), ('her', 'and'), ('sister', 'because'), ('sister', 'her'), ('sister', 'and'), ('sister', 'her'), ('and', 'her'), ('and', 'sister'), ('and', 'her'), ('and', 'goodfornothing'), ('her', 'sister'), ('her', 'and'), ('her', 'goodfornothing'), ('her', 'husband'), ('goodfornothing', 'and'), ('goodfornothing', 'her'), ('goodfornothing', 'husband'), ('goodfornothing', 'were'), ('husband', 'her'), ('husband', 'goodfornothing'), ('husband', 'were'), ('husband', 'as'), ('were', 'goodfornothing'), ('were', 'husband'), ('were', 'as'), ('were', 'undursleyish'), ('as', 'husband'), ('as', 'were'), ('as', 'undursleyish'), ('as', 'as'), ('undursleyish', 'were'), ('undursleyish', 'as'), ('undursleyish', 'as'), ('undursleyish', 'it'), ('as', 'as'), ('as', 'undursleyish'), ('as', 'it'), ('as', 'was'), ('it', 'undursleyish'), ('it', 'as'), ('it', 'was'), ('it', 'possible'), ('was', 'as'), ('was', 'it'), ('was', 'possible'), ('was', 'to'), ('possible', 'it'), ('possible', 'was'), ('possible', 'to'), ('possible', 'be'), ('to', 'was'), ('to', 'possible'), ('to', 'be'), ('be', 'possible'), ('be', 'to'), ('the', 'dursleys'), ('the', 'shuddered'), ('dursleys', 'the'), ('dursleys', 'shuddered'), ('dursleys', 'to'), ('shuddered', 'the'), ('shuddered', 'dursleys'), ('shuddered', 'to'), ('shuddered', 'think'), ('to', 'dursleys'), ('to', 'shuddered'), ('to', 'think'), ('to', 'what'), ('think', 'shuddered'), ('think', 'to'), ('think', 'what'), ('think', 'the'), ('what', 'to'), ('what', 'think'), ('what', 'the'), ('what', 'neighbors'), ('the', 'think'), ('the', 'what'), ('the', 'neighbors'), ('the', 'would'), ('neighbors', 'what'), ('neighbors', 'the'), ('neighbors', 'would'), ('neighbors', 'say'), ('would', 'the'), ('would', 'neighbors'), ('would', 'say'), ('would', 'if'), ('say', 'neighbors'), ('say', 'would'), ('say', 'if'), ('say', 'the'), ('if', 'would'), ('if', 'say'), ('if', 'the'), ('if', 'potters'), ('the', 'say'), ('the', 'if'), ('the', 'potters'), ('the', 'arrived'), ('potters', 'if'), ('potters', 'the'), ('potters', 'arrived'), ('potters', 'in'), ('arrived', 'the'), ('arrived', 'potters'), ('arrived', 'in'), ('arrived', 'the'), ('in', 'potters'), ('in', 'arrived'), ('in', 'the'), ('in', 'street'), ('the', 'arrived'), ('the', 'in'), ('the', 'street'), ('street', 'in'), ('street', 'the')]\n"
          ]
        }
      ],
      "source": [
        "from tqdm import tqdm\n",
        "\n",
        "sample_sentence = ['they', 'were', 'the', 'last', 'people', 'youd', 'expect', 'to', 'be', 'involved', 'in', 'anything', 'strange', 'or', 'mysterious', 'because', 'they', 'just', 'didnt', 'hold', 'with', 'such', 'nonsense']\n",
        "idx = 4\n",
        "window_size = 2\n",
        "center_word = sample_sentence[idx]\n",
        "word_pairs = []\n",
        "\n",
        "for sample_sentence in corpus:\n",
        "  for idx in range(len(sample_sentence)):\n",
        "    center_word = sample_sentence[idx]\n",
        "    context_start = max(idx - window_size, 0)\n",
        "    context_end = min(idx + window_size + 1, len(sample_sentence))\n",
        "    for i in range(context_start, context_end):\n",
        "      if (i == idx):\n",
        "        continue\n",
        "      word_pair = (center_word, sample_sentence[i])\n",
        "      word_pairs.append(word_pair)\n",
        "print(word_pairs)"
      ]
    },
    {
      "cell_type": "markdown",
      "metadata": {
        "id": "VhDvARx0kHLX"
      },
      "source": [
        "## 6. Building the Vocabulary\n",
        "\n",
        "To work with word vectors, we need to create a vocabulary that maps each unique word to an index. We'll also filter out rare words that appear less than a certain number of times in the corpus.\n",
        "\n",
        "### 6.1 Collecting All Words\n",
        "\n",
        "First, let's collect all words in our corpus:\n"
      ]
    },
    {
      "cell_type": "code",
      "execution_count": null,
      "metadata": {
        "id": "htinJiMPkkRE"
      },
      "outputs": [],
      "source": [
        "# we have to make vocabulary\n",
        "\n"
      ]
    },
    {
      "cell_type": "markdown",
      "metadata": {
        "id": "TyB1UyDPkHLX"
      },
      "source": [
        "\n",
        "### 6.2 Finding Unique Words\n",
        "\n",
        "Now, let's find the unique words in our corpus:"
      ]
    },
    {
      "cell_type": "code",
      "execution_count": null,
      "metadata": {
        "id": "ERBFCjeslgDe"
      },
      "outputs": [],
      "source": [
        "# we have to get the \"unique\" item among total words"
      ]
    },
    {
      "cell_type": "markdown",
      "metadata": {
        "id": "cNUNGztEkHLY"
      },
      "source": [
        "### 6.3 Converting to a List and Sorting\n",
        "\n",
        "We'll convert the set of unique words to a sorted list:"
      ]
    },
    {
      "cell_type": "code",
      "execution_count": null,
      "metadata": {
        "id": "fDJNrHdhl_dk"
      },
      "outputs": [],
      "source": [
        "# vocab_set[0] # set is not subscriptable because it has no order"
      ]
    },
    {
      "cell_type": "markdown",
      "metadata": {
        "id": "Cb_mmGLFkHLY"
      },
      "source": [
        "### 6.4 Filtering by Frequency\n",
        "\n",
        "Now, let's filter out rare words that occur less than a specified number of times:\n",
        "- We can use the `Counter` class from the `collections` module to count the frequency of each word in the corpus.\n",
        "- Caution on `alist.sort()` will return `None`."
      ]
    },
    {
      "cell_type": "code",
      "execution_count": null,
      "metadata": {
        "id": "wOkBSjrkmNE4"
      },
      "outputs": [],
      "source": [
        "# how can we filter the vocab by its frequency?\n",
        "filtered_vocab = None\n",
        "# you can use word counter as dictionary\n",
        "# In python dictionary, dict.keys() gives keys, and dict.values() give values,\n",
        "# dict.items() give (key, value)"
      ]
    },
    {
      "cell_type": "markdown",
      "metadata": {
        "id": "VeAFCZGfkHLY"
      },
      "source": [
        "## 7. Filtering Word Pairs\n",
        "\n",
        "Now that we have our filtered vocabulary, we need to filter our word pairs to only include words that are in our vocabulary:"
      ]
    },
    {
      "cell_type": "code",
      "execution_count": null,
      "metadata": {
        "id": "XUS6U7y7opUp"
      },
      "outputs": [],
      "source": [
        "# Filter the word_pairs using the vocab\n",
        "# word_pairs, filtered_vocab\n",
        "# word_pairs is a list of [word_a, word_b]\n"
      ]
    },
    {
      "cell_type": "code",
      "execution_count": null,
      "metadata": {
        "id": "U-o4UucOrcem"
      },
      "outputs": [],
      "source": [
        "# implement same algorithm with list comprehension\n"
      ]
    },
    {
      "cell_type": "code",
      "execution_count": null,
      "metadata": {
        "id": "Uz_8ch59ps_P"
      },
      "outputs": [],
      "source": [
        "len(filtered_pairs), len(word_pairs)"
      ]
    },
    {
      "cell_type": "markdown",
      "metadata": {
        "id": "JTpXArNokHLZ"
      },
      "source": [
        "## 8. Converting Words to Indices\n",
        "\n",
        "For efficiency, we'll convert our words to indices according to their position in our vocabulary:"
      ]
    },
    {
      "cell_type": "code",
      "execution_count": null,
      "metadata": {
        "id": "VFJfhOznqyi-"
      },
      "outputs": [],
      "source": [
        "# convert word into index of vocab\n",
        "filtered_vocab.index('happily')\n"
      ]
    },
    {
      "cell_type": "markdown",
      "metadata": {
        "id": "0gLL8iHekHLZ"
      },
      "source": [
        "This is inefficient because `list.index()` has to scan the list every time. Let's use a dictionary for faster lookups:"
      ]
    },
    {
      "cell_type": "code",
      "execution_count": null,
      "metadata": {
        "id": "2D8n16VitIHP"
      },
      "outputs": [],
      "source": [
        "# we can make it faster\n",
        "# use dictionary to find the index of string\n"
      ]
    },
    {
      "cell_type": "markdown",
      "metadata": {
        "id": "njaud_8BkHLZ"
      },
      "source": [
        "Now, let's convert our word pairs to index pairs more efficiently:"
      ]
    },
    {
      "cell_type": "code",
      "execution_count": null,
      "metadata": {
        "id": "utXemuOgt8-o"
      },
      "outputs": [],
      "source": [
        "index_pairs = []"
      ]
    },
    {
      "cell_type": "code",
      "execution_count": null,
      "metadata": {
        "id": "KgQ_oSNGuZAd"
      },
      "outputs": [],
      "source": [
        "# Why we don't need idx2tok?"
      ]
    },
    {
      "cell_type": "markdown",
      "metadata": {
        "id": "qW3kOHUkkHLZ"
      },
      "source": [
        "## 9. Creating Initial Word Vectors\n",
        "\n",
        "Now we'll create random vectors for each word in our vocabulary. These vectors will be adjusted during training:\n",
        "- We can use `torch.randn` to create random vectors that follow normal distribution."
      ]
    },
    {
      "cell_type": "code",
      "execution_count": null,
      "metadata": {
        "id": "ygV93qzDu4Ls"
      },
      "outputs": [],
      "source": [
        "# we have to make random vectors for each word in the vocab\n",
        "# we also have to decide the dimension of the vector\n",
        "\n",
        "dim = None\n",
        "vocab_size = None\n",
        "\n",
        "word_vectors = None"
      ]
    },
    {
      "cell_type": "code",
      "execution_count": null,
      "metadata": {
        "id": "vmZcT53rvwW2"
      },
      "outputs": [],
      "source": [
        "# what is the vector for harry?\n"
      ]
    },
    {
      "cell_type": "markdown",
      "metadata": {
        "id": "sidgfdW7kHLa"
      },
      "source": [
        "## 10. Understanding Word Relationships with Dot Products\n",
        "\n",
        "The core of Word2Vec is using dot products to measure relationships between words. Let's explore this concept:"
      ]
    },
    {
      "cell_type": "code",
      "execution_count": null,
      "metadata": {
        "id": "J4bEKFvUxbVv"
      },
      "outputs": [],
      "source": [
        "torch.set_printoptions(sci_mode=False) # Do this to avoid scientific notation\n"
      ]
    },
    {
      "cell_type": "markdown",
      "metadata": {
        "id": "VaCMWmD6Suhy"
      },
      "source": [
        "## Dot Product\n",
        "- Assume we have two vectors $a$ and $b$.\n",
        "  - $a = [a_1, a_2, a_3, a_4, ..., a_n]$\n",
        "  - $b = [b_1, b_2, b_3, b_4, ..., b_n]$\n",
        "- $a \\cdot b$ = $\\sum _{i=1}^n a_ib_i$  = $a_1b_1 + a_2b_2 + a_3b_3 + a_4b_4 + ... + a_nb_n$\n",
        "\n",
        "Let's calculate the dot product between \"harry\" and \"potter\":\n"
      ]
    },
    {
      "cell_type": "code",
      "execution_count": null,
      "metadata": {
        "id": "gsse-jUrw6c2"
      },
      "outputs": [],
      "source": [
        "# calculate P(potter|harry)\n",
        "\n",
        "dot_product_value_between_potter_harry = None\n",
        "dot_product_value_between_potter_harry"
      ]
    },
    {
      "cell_type": "code",
      "execution_count": null,
      "metadata": {
        "id": "wZrLEY36yBNZ"
      },
      "outputs": [],
      "source": [
        "# we can get the dot product value for every other words in the vocab\n",
        "# to get  P(word | harry)\n",
        "word_dot_dict = {}\n",
        "\n",
        "word_dot_dict"
      ]
    },
    {
      "cell_type": "markdown",
      "metadata": {
        "id": "Vx857wickHLe"
      },
      "source": [
        "Now, let's convert these dot products to probabilities using the softmax function:\n",
        "- We have to convert our prediction into probability distribution to get P(word|harry) so that sum of [P(a|harry), ..., P(potter|harry), ... P(ron|harry), ... ] = 1\n",
        "- current dot product value is any real number, sometimes called as logit\n",
        "  - logit from logistic regression. Some values that are not yet converted to 0-1 or value before sigmoid function\n",
        "  - every probability should be in range (0, 1) (greater than 0, smaller than 1)\n",
        "  - this can be handled by taking exponential of dot product values, divided by total sum\n",
        "  - This function is called **Softmax**\n",
        "\n",
        "- Why we use exponential?\n",
        "  - Because we want to make every probability in positive range while preserving the order\n"
      ]
    },
    {
      "cell_type": "code",
      "execution_count": null,
      "metadata": {
        "id": "DQ1PUvuLyv6r"
      },
      "outputs": [],
      "source": [
        "from math import exp\n",
        "\n",
        "word_prob_dict = None"
      ]
    },
    {
      "cell_type": "code",
      "execution_count": null,
      "metadata": {
        "id": "SpXH7RxSbwUO"
      },
      "outputs": [],
      "source": [
        "# Get P(potter|harry)"
      ]
    },
    {
      "cell_type": "markdown",
      "metadata": {
        "id": "kKxz9SJhSuhy"
      },
      "source": [
        "## 13. Efficient Matrix Operations\n",
        "![img](https://mkang32.github.io/images/python/khan_academy_matrix_product.png)\n",
        "\n",
        "Instead of calculating dot products one by one, we can use matrix multiplication for efficiency:\n"
      ]
    },
    {
      "cell_type": "code",
      "execution_count": null,
      "metadata": {
        "id": "HCFajiDkb44W"
      },
      "outputs": [],
      "source": [
        "# get dot product result for every word in the vocabulary\n",
        "\n",
        "# first, make vector_of_harry into matrix format\n",
        "\n",
        "# do matrix multiplication\n"
      ]
    },
    {
      "cell_type": "markdown",
      "metadata": {
        "id": "nnwJhqj4kHLe"
      },
      "source": [
        "Let's verify that our matrix multiplication gives the same result as individual dot products:"
      ]
    },
    {
      "cell_type": "code",
      "execution_count": null,
      "metadata": {
        "id": "CCCI43uJkHLf"
      },
      "outputs": [],
      "source": []
    },
    {
      "cell_type": "markdown",
      "metadata": {
        "id": "MkAdJpP1kHLf"
      },
      "source": [
        "Now let's implement the complete softmax calculation using matrix operations:\n"
      ]
    },
    {
      "cell_type": "code",
      "execution_count": null,
      "metadata": {
        "id": "5USdps5CfKzq"
      },
      "outputs": [],
      "source": [
        "# convert dot product result into exponential"
      ]
    },
    {
      "cell_type": "code",
      "execution_count": null,
      "metadata": {
        "id": "WNq0gqz0fntB"
      },
      "outputs": [],
      "source": [
        "# get the sum of exponential\n"
      ]
    },
    {
      "cell_type": "code",
      "execution_count": null,
      "metadata": {
        "id": "ruV4_myDgLvG"
      },
      "outputs": [],
      "source": [
        "# divide exponential value with sum"
      ]
    },
    {
      "cell_type": "markdown",
      "metadata": {
        "id": "ZDxDc9likHLf"
      },
      "source": [
        "## 14. Creating a Probability Function\n",
        "\n",
        "Let's create a function to calculate probabilities efficiently:"
      ]
    },
    {
      "cell_type": "code",
      "execution_count": null,
      "metadata": {
        "id": "EF4gutuEgntj"
      },
      "outputs": [],
      "source": [
        "def get_probs(query_vectors, entire_vectors):\n",
        "  return None\n",
        "\n",
        "# get_probs(mat_of_harry, word_vectors)"
      ]
    },
    {
      "cell_type": "markdown",
      "metadata": {
        "id": "kN-krlH9kHLf"
      },
      "source": [
        "## 15. Preparing for Training\n",
        "\n",
        "Before training our Word2Vec model, we need to split our dataset into training and testing sets:"
      ]
    },
    {
      "cell_type": "code",
      "execution_count": null,
      "metadata": {
        "id": "3gjCSY3DoaFg"
      },
      "outputs": [],
      "source": [
        "# Now we can train the word2vec\n",
        "\n",
        "# Let's think about training pairs\n",
        "index_pairs # this is our dataset. It's list of list of two integer\n",
        "# two integer means a pair of neighboring words\n",
        "\n",
        "# Training set and Test set\n",
        "# To validate that our model can solve 'unseen' problems\n",
        "# So we have to split the dataset before training.\n",
        "\n",
        "# To randomly split the dataset, we will first shuffle the dataset\n",
        "\n",
        "# random.shuffle(index_pairs) # this will shuffle the list items"
      ]
    },
    {
      "cell_type": "code",
      "execution_count": null,
      "metadata": {
        "id": "TC0QF3NZp9Rh"
      },
      "outputs": [],
      "source": [
        "len(train_set), len(test_set)"
      ]
    },
    {
      "cell_type": "markdown",
      "metadata": {
        "id": "b3yIX9QYkHLg"
      },
      "source": [
        "## 16. Training the Word2Vec Model\n",
        "\n",
        "Now we'll train our Word2Vec model using batched gradient descent:"
      ]
    },
    {
      "cell_type": "code",
      "execution_count": null,
      "metadata": {
        "id": "JpUM3aiiqG8e"
      },
      "outputs": [],
      "source": [
        "# making batch from train_set\n",
        "# Batch is a set of training samples, that are calculated together\n",
        "# And also we update the model after one single batch"
      ]
    },
    {
      "cell_type": "markdown",
      "metadata": {
        "id": "xVhbWbAZkHLg"
      },
      "source": [
        "## 17. Evaluating the Training\n",
        "\n",
        "Let's visualize the training loss to see if our model is learning:"
      ]
    },
    {
      "cell_type": "code",
      "execution_count": null,
      "metadata": {
        "id": "FJHSV8zbyLYu"
      },
      "outputs": [],
      "source": [
        "import matplotlib.pyplot as plt\n",
        "plt.plot(loss_record)"
      ]
    },
    {
      "cell_type": "markdown",
      "metadata": {
        "id": "cDERUeAXkHLg"
      },
      "source": [
        "## 18. Testing the Model\n",
        "\n",
        "Now we'll test our model on the test set:"
      ]
    },
    {
      "cell_type": "code",
      "execution_count": null,
      "metadata": {
        "id": "RDP9aR48zdJu"
      },
      "outputs": [],
      "source": []
    },
    {
      "cell_type": "markdown",
      "metadata": {
        "id": "d0NtDaIIkHLg"
      },
      "source": [
        "## 19. Exploring Learned Word Relationships\n",
        "\n",
        "Let's explore what our model has learned by finding the words most closely related to \"harry\":"
      ]
    },
    {
      "cell_type": "code",
      "execution_count": null,
      "metadata": {
        "id": "0YaCDNq_0hFc"
      },
      "outputs": [],
      "source": [
        "# P(potter|harry)?\n"
      ]
    }
  ],
  "metadata": {
    "colab": {
      "provenance": [],
      "include_colab_link": true
    },
    "kernelspec": {
      "display_name": "Python 3",
      "name": "python3"
    },
    "language_info": {
      "codemirror_mode": {
        "name": "ipython",
        "version": 3
      },
      "file_extension": ".py",
      "mimetype": "text/x-python",
      "name": "python",
      "nbconvert_exporter": "python",
      "pygments_lexer": "ipython3",
      "version": "3.8.10"
    }
  },
  "nbformat": 4,
  "nbformat_minor": 0
}